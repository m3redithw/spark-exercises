{
 "cells": [
  {
   "cell_type": "markdown",
   "id": "3ffcf5ba",
   "metadata": {},
   "source": [
    "# Spark API Exercises"
   ]
  },
  {
   "cell_type": "code",
   "execution_count": 1,
   "id": "82499444",
   "metadata": {},
   "outputs": [],
   "source": [
    "from pyspark.sql.functions import *"
   ]
  },
  {
   "cell_type": "markdown",
   "id": "bfb94071",
   "metadata": {},
   "source": [
    "## 1. Create a spark data frame that contains your favorite programming languages."
   ]
  },
  {
   "cell_type": "markdown",
   "id": "03f33d78",
   "metadata": {},
   "source": [
    "### a. The name of the column should be language\n"
   ]
  },
  {
   "cell_type": "markdown",
   "id": "4fc54ccc",
   "metadata": {},
   "source": [
    "### b. View the schema of the dataframe"
   ]
  },
  {
   "cell_type": "markdown",
   "id": "44e40c24",
   "metadata": {},
   "source": [
    "### c. Output the shape of the dataframe"
   ]
  },
  {
   "cell_type": "markdown",
   "id": "1860566c",
   "metadata": {},
   "source": [
    "### d. Show the first 5 records in the dataframe"
   ]
  },
  {
   "cell_type": "code",
   "execution_count": null,
   "id": "1bc3aa42",
   "metadata": {},
   "outputs": [],
   "source": []
  }
 ],
 "metadata": {
  "kernelspec": {
   "display_name": "Python 3 (ipykernel)",
   "language": "python",
   "name": "python3"
  },
  "language_info": {
   "codemirror_mode": {
    "name": "ipython",
    "version": 3
   },
   "file_extension": ".py",
   "mimetype": "text/x-python",
   "name": "python",
   "nbconvert_exporter": "python",
   "pygments_lexer": "ipython3",
   "version": "3.9.12"
  }
 },
 "nbformat": 4,
 "nbformat_minor": 5
}

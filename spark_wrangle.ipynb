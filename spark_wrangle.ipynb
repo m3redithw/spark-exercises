{
 "cells": [
  {
   "cell_type": "markdown",
   "id": "045024b2",
   "metadata": {},
   "source": [
    "# Data Acquisition Exercises"
   ]
  },
  {
   "cell_type": "markdown",
   "id": "47b39fb8",
   "metadata": {},
   "source": [
    "These exercises should go in a notebook or script named wrangle. Add, commit, and push your changes.\n",
    "\n",
    "This exercises uses the case.csv, dept.csv, and source.csv files from the san antonio 311 call dataset."
   ]
  },
  {
   "cell_type": "markdown",
   "id": "fa911991",
   "metadata": {},
   "source": [
    "## 1. Read the case, department, and source data into their own spark dataframes."
   ]
  },
  {
   "cell_type": "code",
   "execution_count": 1,
   "id": "e20ac344",
   "metadata": {},
   "outputs": [
    {
     "name": "stderr",
     "output_type": "stream",
     "text": [
      "Setting default log level to \"WARN\".\n",
      "To adjust logging level use sc.setLogLevel(newLevel). For SparkR, use setLogLevel(newLevel).\n"
     ]
    },
    {
     "name": "stdout",
     "output_type": "stream",
     "text": [
      "22/09/15 21:44:56 WARN NativeCodeLoader: Unable to load native-hadoop library for your platform... using builtin-java classes where applicable\n",
      "22/09/15 21:44:57 WARN Utils: Service 'SparkUI' could not bind on port 4040. Attempting port 4041.\n"
     ]
    }
   ],
   "source": [
    "from pyspark.sql import SparkSession\n",
    "from pyspark.sql.functions import *\n",
    "\n",
    "spark = SparkSession.builder.getOrCreate()"
   ]
  },
  {
   "cell_type": "code",
   "execution_count": 2,
   "id": "9d051df7",
   "metadata": {
    "scrolled": true
   },
   "outputs": [
    {
     "name": "stderr",
     "output_type": "stream",
     "text": [
      "                                                                                \r"
     ]
    },
    {
     "name": "stdout",
     "output_type": "stream",
     "text": [
      "+----------+----------------+----------------+------------+---------+-------------------+-----------+----------------+--------------------+-----------+-----------+---------+--------------------+----------------+\n",
      "|   case_id|case_opened_date|case_closed_date|SLA_due_date|case_late|      num_days_late|case_closed|   dept_division|service_request_type|   SLA_days|case_status|source_id|     request_address|council_district|\n",
      "+----------+----------------+----------------+------------+---------+-------------------+-----------+----------------+--------------------+-----------+-----------+---------+--------------------+----------------+\n",
      "|1014127332|     1/1/18 0:42|    1/1/18 12:29|9/26/20 0:42|       NO| -998.5087616000001|        YES|Field Operations|        Stray Animal|      999.0|     Closed| svcCRMLS|2315  EL PASO ST,...|               5|\n",
      "|1014127333|     1/1/18 0:46|     1/3/18 8:11| 1/5/18 8:30|       NO|-2.0126041669999997|        YES|     Storm Water|Removal Of Obstru...|4.322222222|     Closed| svcCRMSS|2215  GOLIAD RD, ...|               3|\n",
      "|1014127334|     1/1/18 0:48|     1/2/18 7:57| 1/5/18 8:30|       NO|       -3.022337963|        YES|     Storm Water|Removal Of Obstru...|4.320729167|     Closed| svcCRMSS|102  PALFREY ST W...|               3|\n",
      "|1014127335|     1/1/18 1:29|     1/2/18 8:13|1/17/18 8:30|       NO|       -15.01148148|        YES|Code Enforcement|Front Or Side Yar...|16.29188657|     Closed| svcCRMSS|114  LA GARDE ST,...|               3|\n",
      "|1014127336|     1/1/18 1:34|    1/1/18 13:29| 1/1/18 4:34|      YES|0.37216435200000003|        YES|Field Operations|Animal Cruelty(Cr...|      0.125|     Closed| svcCRMSS|734  CLEARVIEW DR...|               7|\n",
      "+----------+----------------+----------------+------------+---------+-------------------+-----------+----------------+--------------------+-----------+-----------+---------+--------------------+----------------+\n",
      "only showing top 5 rows\n",
      "\n"
     ]
    }
   ],
   "source": [
    "case = spark.read.csv('case.csv', sep=',', header=True, inferSchema=True)\n",
    "case.show(5)"
   ]
  },
  {
   "cell_type": "markdown",
   "id": "8c66a6af",
   "metadata": {},
   "source": [
    "## 2. Let's see how writing to the local disk works in spark:\n",
    "\n",
    "- Write the code necessary to store the source data in both csv and json format, store these as sources_csv and sources_json\n",
    "\n",
    "- Inspect your folder structure. What do you notice?"
   ]
  },
  {
   "cell_type": "code",
   "execution_count": 3,
   "id": "a15c9e3d",
   "metadata": {},
   "outputs": [],
   "source": [
    "dept = spark.read.csv('dept.csv', sep=',', header=True, inferSchema=True)\n",
    "source = spark.read.csv('source.csv', sep=',', header=True, inferSchema=True)"
   ]
  },
  {
   "cell_type": "code",
   "execution_count": 4,
   "id": "13ab742a",
   "metadata": {},
   "outputs": [],
   "source": [
    "source.write.csv('sources_csv', mode='overwrite')\n",
    "source.write.json('sources_json', mode='overwrite')"
   ]
  },
  {
   "cell_type": "code",
   "execution_count": 5,
   "id": "b45c42f5",
   "metadata": {},
   "outputs": [
    {
     "name": "stdout",
     "output_type": "stream",
     "text": [
      "root\n",
      " |-- dept_division: string (nullable = true)\n",
      " |-- dept_name: string (nullable = true)\n",
      " |-- standardized_dept_name: string (nullable = true)\n",
      " |-- dept_subject_to_SLA: string (nullable = true)\n",
      "\n"
     ]
    }
   ],
   "source": [
    "dept.printSchema()"
   ]
  },
  {
   "cell_type": "code",
   "execution_count": 6,
   "id": "3e3d7261",
   "metadata": {},
   "outputs": [
    {
     "name": "stdout",
     "output_type": "stream",
     "text": [
      "root\n",
      " |-- case_id: integer (nullable = true)\n",
      " |-- case_opened_date: string (nullable = true)\n",
      " |-- case_closed_date: string (nullable = true)\n",
      " |-- SLA_due_date: string (nullable = true)\n",
      " |-- case_late: string (nullable = true)\n",
      " |-- num_days_late: double (nullable = true)\n",
      " |-- case_closed: string (nullable = true)\n",
      " |-- dept_division: string (nullable = true)\n",
      " |-- service_request_type: string (nullable = true)\n",
      " |-- SLA_days: double (nullable = true)\n",
      " |-- case_status: string (nullable = true)\n",
      " |-- source_id: string (nullable = true)\n",
      " |-- request_address: string (nullable = true)\n",
      " |-- council_district: integer (nullable = true)\n",
      "\n"
     ]
    }
   ],
   "source": [
    "case.printSchema()"
   ]
  },
  {
   "cell_type": "markdown",
   "id": "6fc89cac",
   "metadata": {},
   "source": [
    "## 3. Inspect the data in your dataframes. Are the data types appropriate? Write the code necessary to cast the values to the appropriate types."
   ]
  },
  {
   "cell_type": "code",
   "execution_count": 10,
   "id": "255c921f",
   "metadata": {},
   "outputs": [],
   "source": [
    "case = case.withColumnRenamed('SLA_due_date', 'case_due_date')\n"
   ]
  },
  {
   "cell_type": "code",
   "execution_count": 11,
   "id": "e1d4373e",
   "metadata": {},
   "outputs": [
    {
     "name": "stdout",
     "output_type": "stream",
     "text": [
      "+-----------+---------+\n",
      "|case_closed|case_late|\n",
      "+-----------+---------+\n",
      "|       true|    false|\n",
      "|       true|    false|\n",
      "|       true|    false|\n",
      "|       true|    false|\n",
      "|       true|     true|\n",
      "+-----------+---------+\n",
      "only showing top 5 rows\n",
      "\n"
     ]
    }
   ],
   "source": [
    "case = case.withColumn('case_closed', expr('case_closed == \"YES\"'))\\\n",
    "           .withColumn('case_late', expr('case_late == \"YES\"'))\n",
    "\n",
    "case.select('case_closed', 'case_late').show(5)"
   ]
  },
  {
   "cell_type": "code",
   "execution_count": 12,
   "id": "00f1a451",
   "metadata": {},
   "outputs": [
    {
     "name": "stdout",
     "output_type": "stream",
     "text": [
      "+-------------------+-------------------+-------------------+\n",
      "|   case_opened_date|   case_closed_date|      case_due_date|\n",
      "+-------------------+-------------------+-------------------+\n",
      "|2018-01-01 00:42:00|2018-01-01 12:29:00|2020-09-26 00:42:00|\n",
      "|2018-01-01 00:46:00|2018-01-03 08:11:00|2018-01-05 08:30:00|\n",
      "|2018-01-01 00:48:00|2018-01-02 07:57:00|2018-01-05 08:30:00|\n",
      "|2018-01-01 01:29:00|2018-01-02 08:13:00|2018-01-17 08:30:00|\n",
      "|2018-01-01 01:34:00|2018-01-01 13:29:00|2018-01-01 04:34:00|\n",
      "+-------------------+-------------------+-------------------+\n",
      "only showing top 5 rows\n",
      "\n"
     ]
    }
   ],
   "source": [
    "fmt = 'M/d/yy H:mm'\n",
    "\n",
    "case = case.withColumn(\"case_opened_date\", to_timestamp(\"case_opened_date\", fmt))\\\n",
    "           .withColumn(\"case_closed_date\", to_timestamp(\"case_closed_date\", fmt))\\\n",
    "           .withColumn(\"case_due_date\", to_timestamp(\"case_due_date\", fmt))\n",
    "\n",
    "case.select('case_opened_date', 'case_closed_date', 'case_due_date').show(5)\n"
   ]
  },
  {
   "cell_type": "markdown",
   "id": "d7b41de5",
   "metadata": {},
   "source": [
    "***"
   ]
  },
  {
   "cell_type": "markdown",
   "id": "d9e6774f",
   "metadata": {},
   "source": [
    "# Wrangle Exercises"
   ]
  },
  {
   "cell_type": "markdown",
   "id": "aef73a65",
   "metadata": {},
   "source": [
    "## 1. How old is the latest (in terms of days past SLA) currently open issue? How long has the oldest (in terms of days since opened) currently opened issue been open?"
   ]
  },
  {
   "cell_type": "code",
   "execution_count": 13,
   "id": "85c9fd76",
   "metadata": {},
   "outputs": [
    {
     "name": "stdout",
     "output_type": "stream",
     "text": [
      "+-------------------+-------------------+------------------+\n",
      "|   case_opened_date|      case_due_date|     num_days_late|\n",
      "+-------------------+-------------------+------------------+\n",
      "|2017-01-01 13:57:00|2017-01-17 08:30:00|       348.6458333|\n",
      "|2017-01-01 13:48:00|2017-01-17 08:30:00|       348.6458333|\n",
      "|2017-01-02 11:26:00|2017-01-17 11:26:00|348.52356480000003|\n",
      "|2017-01-03 10:01:00|2017-01-18 10:01:00|347.58256939999995|\n",
      "|2017-01-05 14:39:00|2017-01-20 14:39:00|       345.3894213|\n",
      "+-------------------+-------------------+------------------+\n",
      "only showing top 5 rows\n",
      "\n"
     ]
    }
   ],
   "source": [
    "case.filter('! case_closed')\\\n",
    "    .select('case_opened_date', 'case_due_date', 'num_days_late')\\\n",
    "    .sort(desc('num_days_late'))\\\n",
    "    .show(5)"
   ]
  },
  {
   "cell_type": "code",
   "execution_count": 14,
   "id": "087069e2",
   "metadata": {},
   "outputs": [
    {
     "name": "stdout",
     "output_type": "stream",
     "text": [
      "+-------------------+-------------------+-----------+\n",
      "|   case_opened_date|      case_due_date|   SLA_days|\n",
      "+-------------------+-------------------+-----------+\n",
      "|2017-09-22 08:27:00|2021-08-11 08:30:00| 1419.00191|\n",
      "|2017-11-03 14:05:00|2021-09-22 14:05:00|     1419.0|\n",
      "|2017-11-21 06:57:00|2021-10-07 08:30:00|1416.063981|\n",
      "|2017-12-03 12:59:00|2021-10-18 08:30:00|1414.813009|\n",
      "|2017-01-06 08:24:00|2020-11-12 08:30:00|1406.003623|\n",
      "+-------------------+-------------------+-----------+\n",
      "only showing top 5 rows\n",
      "\n"
     ]
    }
   ],
   "source": [
    "case.filter('! case_closed')\\\n",
    "    .select('case_opened_date', 'case_due_date', 'SLA_days')\\\n",
    "    .sort(desc('SLA_days'))\\\n",
    "    .show(5)"
   ]
  },
  {
   "cell_type": "code",
   "execution_count": 15,
   "id": "abc6af7b",
   "metadata": {},
   "outputs": [
    {
     "name": "stdout",
     "output_type": "stream",
     "text": [
      "+-------------------+\n",
      "|   case_opened_date|\n",
      "+-------------------+\n",
      "|2017-01-01 13:48:00|\n",
      "|2017-01-01 13:57:00|\n",
      "|2017-01-02 11:26:00|\n",
      "|2017-01-03 10:01:00|\n",
      "|2017-01-04 09:42:00|\n",
      "+-------------------+\n",
      "only showing top 5 rows\n",
      "\n"
     ]
    }
   ],
   "source": [
    "case.filter('! case_closed')\\\n",
    "    .select('case_opened_date')\\\n",
    "    .sort(asc('case_opened_date'))\\\n",
    "    .show(5)\n"
   ]
  },
  {
   "cell_type": "markdown",
   "id": "a396be15",
   "metadata": {},
   "source": [
    "## 2. How many Stray Animal cases are there?"
   ]
  },
  {
   "cell_type": "code",
   "execution_count": 16,
   "id": "ec6fc48d",
   "metadata": {},
   "outputs": [
    {
     "name": "stderr",
     "output_type": "stream",
     "text": [
      "\r",
      "[Stage 15:>                                                       (0 + 16) / 16]\r",
      "\r",
      "[Stage 15:===>                                                    (1 + 15) / 16]\r"
     ]
    },
    {
     "name": "stdout",
     "output_type": "stream",
     "text": [
      "+---------------------------------+-----+\n",
      "|service_request_type             |count|\n",
      "+---------------------------------+-----+\n",
      "|No Pickup                        |86855|\n",
      "|Overgrown Yard/Trash             |65895|\n",
      "|Bandit Signs                     |32910|\n",
      "|Damaged Cart                     |30338|\n",
      "|Front Or Side Yard Parking       |28794|\n",
      "|Stray Animal                     |26760|\n",
      "|Aggressive Animal(Non-Critical)  |24882|\n",
      "|Cart Exchange Request            |22024|\n",
      "|Junk Vehicle On Private Property |21473|\n",
      "|Pot Hole Repair                  |20616|\n",
      "|Alley-Way Maintenance            |20214|\n",
      "|Lost/Stolen Cart                 |18731|\n",
      "|Right Of Way/Sidewalk Obstruction|17699|\n",
      "|Dead Animal - Dog                |16714|\n",
      "|Cart Delivery                    |15471|\n",
      "|Dead Animal - Cat                |14983|\n",
      "|Animal Neglect                   |13441|\n",
      "|Dead Animal - Misc               |13234|\n",
      "|Trapped/Confined Animal          |11354|\n",
      "|Public Nuisance(Own Animal)      |10715|\n",
      "+---------------------------------+-----+\n",
      "only showing top 20 rows\n",
      "\n"
     ]
    },
    {
     "name": "stderr",
     "output_type": "stream",
     "text": [
      "\r",
      "                                                                                \r"
     ]
    }
   ],
   "source": [
    "case.groupby('service_request_type')\\\n",
    "    .count()\\\n",
    "    .sort(desc('count'))\\\n",
    "    .show(truncate=False)"
   ]
  },
  {
   "cell_type": "code",
   "execution_count": 17,
   "id": "8972f248",
   "metadata": {},
   "outputs": [
    {
     "data": {
      "text/plain": [
       "26760"
      ]
     },
     "execution_count": 17,
     "metadata": {},
     "output_type": "execute_result"
    }
   ],
   "source": [
    "case.filter(case.service_request_type == lit('Stray Animal')).count()"
   ]
  },
  {
   "cell_type": "markdown",
   "id": "eab64a66",
   "metadata": {},
   "source": [
    "## 3. How many service requests that are assigned to the Field Operations department (`dept_division`) are not classified as \"Officer Standby\" request type (`service_request_type`)?"
   ]
  },
  {
   "cell_type": "code",
   "execution_count": 18,
   "id": "f0414544",
   "metadata": {},
   "outputs": [
    {
     "data": {
      "text/plain": [
       "113902"
      ]
     },
     "execution_count": 18,
     "metadata": {},
     "output_type": "execute_result"
    }
   ],
   "source": [
    "case.filter(case.dept_division == 'Field Operations')\\\n",
    "    .filter(case.service_request_type != 'Officer Standby')\\\n",
    "    .count()"
   ]
  },
  {
   "cell_type": "markdown",
   "id": "5abc6728",
   "metadata": {},
   "source": [
    "## 4. Convert the `council_district` column to a string column."
   ]
  },
  {
   "cell_type": "code",
   "execution_count": 20,
   "id": "8d4a1074",
   "metadata": {},
   "outputs": [],
   "source": [
    "case = case.withColumn('council_district', col('council_district').cast('string'))"
   ]
  },
  {
   "cell_type": "markdown",
   "id": "cad479a1",
   "metadata": {},
   "source": [
    "## 5. Extract the year from the `case_closed_date` column."
   ]
  },
  {
   "cell_type": "code",
   "execution_count": 21,
   "id": "c995056a",
   "metadata": {},
   "outputs": [
    {
     "name": "stdout",
     "output_type": "stream",
     "text": [
      "+--------------------+-------------------+----+\n",
      "|service_request_type|   case_closed_date|year|\n",
      "+--------------------+-------------------+----+\n",
      "|        Stray Animal|2018-01-01 12:29:00|2018|\n",
      "|Removal Of Obstru...|2018-01-03 08:11:00|2018|\n",
      "|Removal Of Obstru...|2018-01-02 07:57:00|2018|\n",
      "|Front Or Side Yar...|2018-01-02 08:13:00|2018|\n",
      "|Animal Cruelty(Cr...|2018-01-01 13:29:00|2018|\n",
      "+--------------------+-------------------+----+\n",
      "only showing top 5 rows\n",
      "\n"
     ]
    }
   ],
   "source": [
    "case.withColumn('year', year('case_closed_date'))\\\n",
    "    .select('service_request_type', 'case_closed_date', 'year')\\\n",
    "    .show(5)"
   ]
  },
  {
   "cell_type": "markdown",
   "id": "d70c2372",
   "metadata": {},
   "source": [
    "## 6. Convert `num_days_late` from days to hours in new columns `num_hours_late`."
   ]
  },
  {
   "cell_type": "code",
   "execution_count": 22,
   "id": "5301a0dc",
   "metadata": {},
   "outputs": [
    {
     "name": "stdout",
     "output_type": "stream",
     "text": [
      "+-------------------+--------------+\n",
      "|      num_days_late|num_hours_late|\n",
      "+-------------------+--------------+\n",
      "| -998.5087616000001|      -23964.2|\n",
      "|-2.0126041669999997|         -48.3|\n",
      "|       -3.022337963|         -72.5|\n",
      "|       -15.01148148|        -360.3|\n",
      "|0.37216435200000003|           8.9|\n",
      "|       -29.74398148|        -713.9|\n",
      "|       -14.70673611|        -353.0|\n",
      "|       -14.70662037|        -353.0|\n",
      "|       -14.70662037|        -353.0|\n",
      "|       -14.70649306|        -353.0|\n",
      "+-------------------+--------------+\n",
      "only showing top 10 rows\n",
      "\n"
     ]
    }
   ],
   "source": [
    "case.withColumn('num_hours_late', round(expr('num_days_late * 24'), 1))\\\n",
    "    .select('num_days_late', 'num_hours_late')\\\n",
    "    .show(10)"
   ]
  },
  {
   "cell_type": "code",
   "execution_count": 23,
   "id": "ee167c7f",
   "metadata": {},
   "outputs": [],
   "source": [
    "case = case.withColumn('num_hours_late', round(expr('num_days_late * 24'), 1))"
   ]
  },
  {
   "cell_type": "markdown",
   "id": "8c9bb2ac",
   "metadata": {},
   "source": [
    "## 7. Join the case data with the source and department data."
   ]
  },
  {
   "cell_type": "code",
   "execution_count": 24,
   "id": "a77ede5e",
   "metadata": {},
   "outputs": [
    {
     "name": "stdout",
     "output_type": "stream",
     "text": [
      "-RECORD 0------------------------------------\n",
      " source_id            | svcCRMLS             \n",
      " case_id              | 1014127332           \n",
      " case_opened_date     | 2018-01-01 00:42:00  \n",
      " case_closed_date     | 2018-01-01 12:29:00  \n",
      " case_due_date        | 2020-09-26 00:42:00  \n",
      " case_late            | false                \n",
      " num_days_late        | -998.5087616000001   \n",
      " case_closed          | true                 \n",
      " dept_division        | Field Operations     \n",
      " service_request_type | Stray Animal         \n",
      " SLA_days             | 999.0                \n",
      " case_status          | Closed               \n",
      " request_address      | 2315  EL PASO ST,... \n",
      " council_district     | 5                    \n",
      " num_hours_late       | -23964.2             \n",
      " source_username      | svcCRMLS             \n",
      "-RECORD 1------------------------------------\n",
      " source_id            | svcCRMSS             \n",
      " case_id              | 1014127333           \n",
      " case_opened_date     | 2018-01-01 00:46:00  \n",
      " case_closed_date     | 2018-01-03 08:11:00  \n",
      " case_due_date        | 2018-01-05 08:30:00  \n",
      " case_late            | false                \n",
      " num_days_late        | -2.0126041669999997  \n",
      " case_closed          | true                 \n",
      " dept_division        | Storm Water          \n",
      " service_request_type | Removal Of Obstru... \n",
      " SLA_days             | 4.322222222          \n",
      " case_status          | Closed               \n",
      " request_address      | 2215  GOLIAD RD, ... \n",
      " council_district     | 3                    \n",
      " num_hours_late       | -48.3                \n",
      " source_username      | svcCRMSS             \n",
      "only showing top 2 rows\n",
      "\n"
     ]
    }
   ],
   "source": [
    "case = case.join(source, 'source_id', 'left')\\\n",
    "           .drop(source.source_id)\n",
    "\n",
    "case.show(2, vertical=True)"
   ]
  },
  {
   "cell_type": "code",
   "execution_count": 25,
   "id": "1b4d50a4",
   "metadata": {},
   "outputs": [
    {
     "name": "stdout",
     "output_type": "stream",
     "text": [
      "-RECORD 0------------------------------------\n",
      " dept_division        | Field Operations     \n",
      " source_id            | svcCRMLS             \n",
      " case_id              | 1014127332           \n",
      " case_opened_date     | 2018-01-01 00:42:00  \n",
      " case_closed_date     | 2018-01-01 12:29:00  \n",
      " case_due_date        | 2020-09-26 00:42:00  \n",
      " case_late            | false                \n",
      " num_days_late        | -998.5087616000001   \n",
      " case_closed          | true                 \n",
      " service_request_type | Stray Animal         \n",
      " SLA_days             | 999.0                \n",
      " case_status          | Closed               \n",
      " request_address      | 2315  EL PASO ST,... \n",
      " council_district     | 5                    \n",
      " num_hours_late       | -23964.2             \n",
      " source_username      | svcCRMLS             \n",
      " department           | Animal Care Services \n",
      " dept_subject_to_SLA  | true                 \n",
      "-RECORD 1------------------------------------\n",
      " dept_division        | Storm Water          \n",
      " source_id            | svcCRMSS             \n",
      " case_id              | 1014127333           \n",
      " case_opened_date     | 2018-01-01 00:46:00  \n",
      " case_closed_date     | 2018-01-03 08:11:00  \n",
      " case_due_date        | 2018-01-05 08:30:00  \n",
      " case_late            | false                \n",
      " num_days_late        | -2.0126041669999997  \n",
      " case_closed          | true                 \n",
      " service_request_type | Removal Of Obstru... \n",
      " SLA_days             | 4.322222222          \n",
      " case_status          | Closed               \n",
      " request_address      | 2215  GOLIAD RD, ... \n",
      " council_district     | 3                    \n",
      " num_hours_late       | -48.3                \n",
      " source_username      | svcCRMSS             \n",
      " department           | Trans & Cap Impro... \n",
      " dept_subject_to_SLA  | true                 \n",
      "only showing top 2 rows\n",
      "\n"
     ]
    }
   ],
   "source": [
    "case = case.join(dept, 'dept_division', 'left')\\\n",
    "           .drop(dept.dept_division)\\\n",
    "           .drop(dept.dept_name)\\\n",
    "           .withColumnRenamed('standardized_dept_name', 'department')\\\n",
    "           .withColumn('dept_subject_to_SLA', col('dept_subject_to_SLA') == 'YES')\n",
    "\n",
    "case.show(2, vertical=True)\n"
   ]
  },
  {
   "cell_type": "markdown",
   "id": "fb1539bd",
   "metadata": {},
   "source": [
    "## 8. Are there any cases that do not have a request source?"
   ]
  },
  {
   "cell_type": "code",
   "execution_count": 26,
   "id": "51c07cbf",
   "metadata": {
    "scrolled": true
   },
   "outputs": [
    {
     "data": {
      "text/plain": [
       "0"
      ]
     },
     "execution_count": 26,
     "metadata": {},
     "output_type": "execute_result"
    }
   ],
   "source": [
    "case.filter(case.source_id == 'null').count()"
   ]
  },
  {
   "cell_type": "code",
   "execution_count": 27,
   "id": "537996e3",
   "metadata": {},
   "outputs": [
    {
     "data": {
      "text/plain": [
       "0"
      ]
     },
     "execution_count": 27,
     "metadata": {},
     "output_type": "execute_result"
    }
   ],
   "source": [
    "case.filter(case.source_id == '').count()"
   ]
  },
  {
   "cell_type": "markdown",
   "id": "ab74e912",
   "metadata": {},
   "source": [
    "## 9. What are the top 10 service request types in terms of number of requests?"
   ]
  },
  {
   "cell_type": "code",
   "execution_count": 28,
   "id": "dbb384fe",
   "metadata": {},
   "outputs": [
    {
     "name": "stdout",
     "output_type": "stream",
     "text": [
      "+--------------------+-----+\n",
      "|service_request_type|count|\n",
      "+--------------------+-----+\n",
      "|           No Pickup|89210|\n",
      "|Overgrown Yard/Trash|66403|\n",
      "|        Bandit Signs|32968|\n",
      "|        Damaged Cart|31163|\n",
      "|Front Or Side Yar...|28920|\n",
      "|        Stray Animal|27361|\n",
      "|Aggressive Animal...|25492|\n",
      "|Cart Exchange Req...|22608|\n",
      "|Junk Vehicle On P...|21649|\n",
      "|     Pot Hole Repair|20827|\n",
      "+--------------------+-----+\n",
      "only showing top 10 rows\n",
      "\n"
     ]
    },
    {
     "name": "stderr",
     "output_type": "stream",
     "text": [
      "\r",
      "[Stage 43:>                                                       (0 + 16) / 16]\r",
      "\r",
      "                                                                                \r"
     ]
    }
   ],
   "source": [
    "case.groupBy('service_request_type')\\\n",
    "    .count()\\\n",
    "    .sort(desc('count'))\\\n",
    "    .show(10)"
   ]
  },
  {
   "cell_type": "markdown",
   "id": "b4f5ae06",
   "metadata": {},
   "source": [
    "## 10. What are the top 10 service request types in terms of average days late?\n"
   ]
  },
  {
   "cell_type": "code",
   "execution_count": 29,
   "id": "f81b8723",
   "metadata": {},
   "outputs": [
    {
     "name": "stderr",
     "output_type": "stream",
     "text": [
      "\r",
      "[Stage 48:>                                                       (0 + 16) / 16]\r"
     ]
    },
    {
     "name": "stdout",
     "output_type": "stream",
     "text": [
      "+--------------------+--------+\n",
      "|service_request_type|avg_late|\n",
      "+--------------------+--------+\n",
      "|  Zoning: Junk Yards|   176.0|\n",
      "|Labeling for Used...|   162.4|\n",
      "|Record Keeping of...|   154.0|\n",
      "|Signage Requied f...|   151.6|\n",
      "|Storage of Used M...|   142.1|\n",
      "|Zoning: Recycle Yard|   135.9|\n",
      "|Donation Containe...|   131.8|\n",
      "|License Requied U...|   128.8|\n",
      "|Traffic Signal Gr...|   101.8|\n",
      "|           Complaint|    72.9|\n",
      "+--------------------+--------+\n",
      "only showing top 10 rows\n",
      "\n"
     ]
    },
    {
     "name": "stderr",
     "output_type": "stream",
     "text": [
      "\r",
      "[Stage 48:===>                                                    (1 + 15) / 16]\r",
      "\r",
      "                                                                                \r"
     ]
    }
   ],
   "source": [
    "case.groupBy('service_request_type')\\\n",
    "    .agg(round(mean('num_days_late'), 1).alias('avg_late'))\\\n",
    "    .sort(desc('avg_late'))\\\n",
    "    .show(10)"
   ]
  },
  {
   "cell_type": "markdown",
   "id": "7a8f39e6",
   "metadata": {},
   "source": [
    "## 11. Does number of days late depend on department?\n"
   ]
  },
  {
   "cell_type": "code",
   "execution_count": 30,
   "id": "535dbb00",
   "metadata": {},
   "outputs": [
    {
     "name": "stdout",
     "output_type": "stream",
     "text": [
      "+--------------------+--------+\n",
      "|          department|avg_late|\n",
      "+--------------------+--------+\n",
      "|    Customer Service|    59.7|\n",
      "|         Solid Waste|    -2.2|\n",
      "|        Metro Health|    -4.9|\n",
      "|  Parks & Recreation|    -5.3|\n",
      "|Trans & Cap Impro...|   -20.6|\n",
      "|DSD/Code Enforcement|   -38.4|\n",
      "|Animal Care Services|  -226.5|\n",
      "|        City Council|    null|\n",
      "+--------------------+--------+\n",
      "\n"
     ]
    }
   ],
   "source": [
    "case.groupBy('department')\\\n",
    "    .agg(round(mean('num_days_late'), 1).alias('avg_late'))\\\n",
    "    .sort(desc('avg_late'))\\\n",
    "    .show(10)"
   ]
  },
  {
   "cell_type": "markdown",
   "id": "362909dd",
   "metadata": {},
   "source": [
    "## 12. How do number of days late depend on department and request type?"
   ]
  },
  {
   "cell_type": "code",
   "execution_count": 31,
   "id": "73a7a164",
   "metadata": {},
   "outputs": [
    {
     "name": "stderr",
     "output_type": "stream",
     "text": [
      "\r",
      "[Stage 58:===>                                                    (1 + 15) / 16]\r"
     ]
    },
    {
     "name": "stdout",
     "output_type": "stream",
     "text": [
      "+--------------------+--------------------+-------------+\n",
      "|          department|service_request_type|avg_days_late|\n",
      "+--------------------+--------------------+-------------+\n",
      "|Animal Care Services|Animal Bite(Non-C...|         -2.5|\n",
      "|Animal Care Services|Spay/Neuter Reque...|         -7.0|\n",
      "|Animal Care Services|Animal Bite(Criti...|          0.0|\n",
      "|Animal Care Services|Animal Cruelty(Cr...|         -0.1|\n",
      "|Animal Care Services|Public Nuisance(O...|         -2.2|\n",
      "|Animal Care Services|Aggressive Animal...|         16.7|\n",
      "|Animal Care Services|Trapped/Confined ...|          0.2|\n",
      "|Animal Care Services|      Animal Neglect|          7.3|\n",
      "|Animal Care Services|     Officer Standby|         -0.1|\n",
      "|Animal Care Services|City Council Anim...|         -1.5|\n",
      "|Animal Care Services|Animal Permits Re...|         22.2|\n",
      "|Animal Care Services|Aggressive Animal...|          2.6|\n",
      "|Animal Care Services|Injured Animal(Cr...|         -0.1|\n",
      "|Animal Care Services|        Stray Animal|       -998.8|\n",
      "|        City Council|Request for Resea...|         null|\n",
      "|        City Council|CCO_Request for R...|         null|\n",
      "|    Customer Service|           Complaint|         72.9|\n",
      "|    Customer Service|          Compliment|         -8.0|\n",
      "|DSD/Code Enforcement|    Vehicle Blocking|          0.0|\n",
      "|DSD/Code Enforcement|Zoning Business i...|       -111.6|\n",
      "|DSD/Code Enforcement|Zoning: Mobile Homes|        -87.6|\n",
      "|DSD/Code Enforcement|Graffiti Public P...|         -1.7|\n",
      "|DSD/Code Enforcement|Donation Containe...|        131.8|\n",
      "|DSD/Code Enforcement|Boarding Home Ins...|         12.7|\n",
      "|DSD/Code Enforcement|\"Vacant Lot-City ...|        -45.2|\n",
      "|DSD/Code Enforcement|             Vendors|         66.5|\n",
      "|DSD/Code Enforcement|Basketball Goals ...|         -4.8|\n",
      "|DSD/Code Enforcement|\"Vacant Lot-City ...|        -42.6|\n",
      "|DSD/Code Enforcement|Right Of Way/Side...|         -8.2|\n",
      "|DSD/Code Enforcement|        Bandit Signs|         -4.5|\n",
      "|DSD/Code Enforcement|Graffiti: Drainag...|         -0.6|\n",
      "|DSD/Code Enforcement|Sewer No Connections|        -59.8|\n",
      "|DSD/Code Enforcement|Used/Scrap Tire F...|        -75.6|\n",
      "|DSD/Code Enforcement|Emergency: Main a...|         22.3|\n",
      "|DSD/Code Enforcement|CPS Energy Metal ...|       -129.2|\n",
      "|DSD/Code Enforcement|Certificates of O...|        -92.6|\n",
      "|DSD/Code Enforcement|Junk Vehicle On P...|        -42.7|\n",
      "|DSD/Code Enforcement|Vacant House Over...|        -49.8|\n",
      "|DSD/Code Enforcement|Zoning: Outside S...|       -107.5|\n",
      "|DSD/Code Enforcement|Animal Investigat...|        -41.0|\n",
      "|DSD/Code Enforcement|Solid Waste Insp:...|        -22.6|\n",
      "|DSD/Code Enforcement|Pooled Water (Mos...|        -52.9|\n",
      "|DSD/Code Enforcement|   CPS Energy Towers|       -129.8|\n",
      "|DSD/Code Enforcement|Graffiti: Traffic...|         -0.8|\n",
      "|DSD/Code Enforcement|\"Vacant Lot-Count...|        -40.7|\n",
      "|DSD/Code Enforcement|   Sewer Line Broken|        -53.8|\n",
      "|DSD/Code Enforcement|Low Hanging Limbs...|       -112.8|\n",
      "|DSD/Code Enforcement|DSDB Ordered/Hold...|         -4.7|\n",
      "|DSD/Code Enforcement|Street Light Exis...|         13.7|\n",
      "|DSD/Code Enforcement|Emergency: Main S...|          8.3|\n",
      "+--------------------+--------------------+-------------+\n",
      "only showing top 50 rows\n",
      "\n"
     ]
    },
    {
     "name": "stderr",
     "output_type": "stream",
     "text": [
      "\r",
      "                                                                                \r"
     ]
    }
   ],
   "source": [
    "case.groupBy('department', 'service_request_type')\\\n",
    "    .agg(round(avg('num_days_late'), 1).alias('avg_days_late'))\\\n",
    "    .sort('department')\\\n",
    "    .show(50)"
   ]
  }
 ],
 "metadata": {
  "kernelspec": {
   "display_name": "Python 3 (ipykernel)",
   "language": "python",
   "name": "python3"
  },
  "language_info": {
   "codemirror_mode": {
    "name": "ipython",
    "version": 3
   },
   "file_extension": ".py",
   "mimetype": "text/x-python",
   "name": "python",
   "nbconvert_exporter": "python",
   "pygments_lexer": "ipython3",
   "version": "3.9.12"
  }
 },
 "nbformat": 4,
 "nbformat_minor": 5
}
